{
 "cells": [
  {
   "cell_type": "code",
   "execution_count": 1,
   "metadata": {},
   "outputs": [
    {
     "name": "stderr",
     "output_type": "stream",
     "text": [
      "/anaconda2/lib/python2.7/site-packages/sklearn/cross_validation.py:41: DeprecationWarning: This module was deprecated in version 0.18 in favor of the model_selection module into which all the refactored classes and functions are moved. Also note that the interface of the new CV iterators are different from that of this module. This module will be removed in 0.20.\n",
      "  \"This module will be removed in 0.20.\", DeprecationWarning)\n"
     ]
    }
   ],
   "source": [
    "from sklearn import cross_validation, datasets\n",
    "\n",
    "import numpy as np\n"
   ]
  },
  {
   "cell_type": "code",
   "execution_count": 3,
   "metadata": {},
   "outputs": [],
   "source": [
    "digit_ds = datasets.load_digits()\n",
    "breast_can_ds= datasets.load_breast_cancer()"
   ]
  },
  {
   "cell_type": "code",
   "execution_count": 5,
   "metadata": {},
   "outputs": [
    {
     "data": {
      "text/plain": [
       "['target_names', 'data', 'target', 'DESCR', 'feature_names']"
      ]
     },
     "execution_count": 5,
     "metadata": {},
     "output_type": "execute_result"
    }
   ],
   "source": [
    "breast_can_ds.keys()"
   ]
  },
  {
   "cell_type": "code",
   "execution_count": 10,
   "metadata": {},
   "outputs": [],
   "source": [
    "from sklearn import naive_bayes"
   ]
  },
  {
   "cell_type": "code",
   "execution_count": 25,
   "metadata": {},
   "outputs": [],
   "source": [
    "naiv_bern = naive_bayes.BernoulliNB ()\n",
    "naiv_bern_digits = naive_bayes.BernoulliNB ()"
   ]
  },
  {
   "cell_type": "code",
   "execution_count": 39,
   "metadata": {},
   "outputs": [
    {
     "name": "stdout",
     "output_type": "stream",
     "text": [
      "0.6274204028589994\n"
     ]
    }
   ],
   "source": [
    "score_Bernoulli = cross_validation.cross_val_score (naiv_bern ,breast_can_ds.data,breast_can_ds.target )\n",
    "print score_Bernoulli.mean()"
   ]
  },
  {
   "cell_type": "code",
   "execution_count": 26,
   "metadata": {},
   "outputs": [
    {
     "name": "stdout",
     "output_type": "stream",
     "text": [
      "0.8258236507780582\n"
     ]
    }
   ],
   "source": [
    "score_Bernoulli_digits = cross_validation.cross_val_score (naiv_bern_digits ,digit_ds.data, digit_ds.target)\n",
    "print score_Bernoulli_digits.mean()"
   ]
  },
  {
   "cell_type": "code",
   "execution_count": 29,
   "metadata": {},
   "outputs": [
    {
     "name": "stdout",
     "output_type": "stream",
     "text": [
      "0.8945790401930752\n",
      "0.8708771489735053\n"
     ]
    }
   ],
   "source": [
    "naiv_bern_multi_breast = naive_bayes.MultinomialNB()\n",
    "naiv_bern_multi_digits = naive_bayes.MultinomialNB()\n",
    "score_Bernoulli_multi_breast = cross_validation.cross_val_score (naiv_bern_multi_breast ,breast_can_ds.data,breast_can_ds.target )\n",
    "print score_Bernoulli_multi_breast.mean()\n",
    "score_Bernoulli_multi_digits = cross_validation.cross_val_score (naiv_bern_multi_digits ,digit_ds.data, digit_ds.target)\n",
    "print score_Bernoulli_multi_digits.mean()"
   ]
  },
  {
   "cell_type": "code",
   "execution_count": 30,
   "metadata": {},
   "outputs": [
    {
     "name": "stdout",
     "output_type": "stream",
     "text": [
      "0.9367492806089297\n",
      "0.8186003803550138\n"
     ]
    }
   ],
   "source": [
    "naiv_bern_gaus_breast = naive_bayes.GaussianNB()\n",
    "naiv_bern_gaus_digits = naive_bayes.GaussianNB()\n",
    "score_Bernoulli_gaus_breast = cross_validation.cross_val_score (naiv_bern_gaus_breast ,breast_can_ds.data,breast_can_ds.target )\n",
    "print score_Bernoulli_gaus_breast.mean()\n",
    "score_Bernoulli_gaus_digits = cross_validation.cross_val_score (naiv_bern_gaus_digits ,digit_ds.data, digit_ds.target)\n",
    "print score_Bernoulli_gaus_digits.mean()"
   ]
  },
  {
   "cell_type": "code",
   "execution_count": 42,
   "metadata": {},
   "outputs": [],
   "source": [
    "answer1 = open ('answer1.txt','w')\n",
    "answer1.write (str(score_Bernoulli_gaus_breast.mean()))\n",
    "answer1.close()"
   ]
  },
  {
   "cell_type": "code",
   "execution_count": 32,
   "metadata": {},
   "outputs": [],
   "source": [
    "with open ('answer2.txt','w') as answer2:\n",
    "    answer2.write (str(score_Bernoulli_multi_digits.mean()))"
   ]
  },
  {
   "cell_type": "code",
   "execution_count": 44,
   "metadata": {},
   "outputs": [],
   "source": [
    "with open ('answer3.txt','w') as answer3:\n",
    "    answer3.write ('3 4')"
   ]
  },
  {
   "cell_type": "code",
   "execution_count": 36,
   "metadata": {},
   "outputs": [
    {
     "data": {
      "text/plain": [
       "array([[ 18.,  10., 123., ...,   0.,   0.,   0.],\n",
       "       [ 21.,  18., 133., ...,   0.,   0.,   0.],\n",
       "       [ 20.,  21., 130., ...,   0.,   0.,   0.],\n",
       "       ...,\n",
       "       [ 17.,  28., 108., ...,   0.,   0.,   0.],\n",
       "       [ 21.,  29., 140., ...,   0.,   0.,   0.],\n",
       "       [  8.,  25.,  48., ...,   0.,   0.,   0.]])"
      ]
     },
     "execution_count": 36,
     "metadata": {},
     "output_type": "execute_result"
    }
   ],
   "source": [
    "np.round (breast_can_ds.data)"
   ]
  },
  {
   "cell_type": "code",
   "execution_count": 37,
   "metadata": {},
   "outputs": [
    {
     "data": {
      "text/plain": [
       "array([[ 0.,  0.,  5., ...,  0.,  0.,  0.],\n",
       "       [ 0.,  0.,  0., ..., 10.,  0.,  0.],\n",
       "       [ 0.,  0.,  0., ..., 16.,  9.,  0.],\n",
       "       ...,\n",
       "       [ 0.,  0.,  1., ...,  6.,  0.,  0.],\n",
       "       [ 0.,  0.,  2., ..., 12.,  0.,  0.],\n",
       "       [ 0.,  0., 10., ..., 12.,  1.,  0.]])"
      ]
     },
     "execution_count": 37,
     "metadata": {},
     "output_type": "execute_result"
    }
   ],
   "source": [
    "digit_ds.data"
   ]
  }
 ],
 "metadata": {
  "kernelspec": {
   "display_name": "Python 2",
   "language": "python",
   "name": "python2"
  },
  "language_info": {
   "codemirror_mode": {
    "name": "ipython",
    "version": 2
   },
   "file_extension": ".py",
   "mimetype": "text/x-python",
   "name": "python",
   "nbconvert_exporter": "python",
   "pygments_lexer": "ipython2",
   "version": "2.7.14"
  }
 },
 "nbformat": 4,
 "nbformat_minor": 2
}
