{
 "cells": [
  {
   "cell_type": "code",
   "execution_count": 1,
   "metadata": {},
   "outputs": [],
   "source": [
    "import numpy as np\n",
    "import pandas as pd"
   ]
  },
  {
   "cell_type": "code",
   "execution_count": 9,
   "metadata": {},
   "outputs": [
    {
     "name": "stdout",
     "output_type": "stream",
     "text": [
      "Populating the interactive namespace from numpy and matplotlib\n"
     ]
    }
   ],
   "source": [
    "%pylab inline"
   ]
  },
  {
   "cell_type": "code",
   "execution_count": 3,
   "metadata": {},
   "outputs": [],
   "source": [
    "data = pd.read_csv ('gene_high_throughput_sequencing.csv', sep = ',')"
   ]
  },
  {
   "cell_type": "code",
   "execution_count": 7,
   "metadata": {},
   "outputs": [
    {
     "data": {
      "text/html": [
       "<div>\n",
       "<style scoped>\n",
       "    .dataframe tbody tr th:only-of-type {\n",
       "        vertical-align: middle;\n",
       "    }\n",
       "\n",
       "    .dataframe tbody tr th {\n",
       "        vertical-align: top;\n",
       "    }\n",
       "\n",
       "    .dataframe thead th {\n",
       "        text-align: right;\n",
       "    }\n",
       "</style>\n",
       "<table border=\"1\" class=\"dataframe\">\n",
       "  <thead>\n",
       "    <tr style=\"text-align: right;\">\n",
       "      <th></th>\n",
       "      <th>Patient_id</th>\n",
       "      <th>Diagnosis</th>\n",
       "      <th>LOC643837</th>\n",
       "      <th>LOC100130417</th>\n",
       "      <th>SAMD11</th>\n",
       "      <th>NOC2L</th>\n",
       "      <th>KLHL17</th>\n",
       "      <th>PLEKHN1</th>\n",
       "      <th>C1orf170</th>\n",
       "      <th>HES4</th>\n",
       "      <th>...</th>\n",
       "      <th>CLIC2</th>\n",
       "      <th>RPS4Y1</th>\n",
       "      <th>ZFY</th>\n",
       "      <th>PRKY</th>\n",
       "      <th>USP9Y</th>\n",
       "      <th>DDX3Y</th>\n",
       "      <th>CD24</th>\n",
       "      <th>CYorf15B</th>\n",
       "      <th>KDM5D</th>\n",
       "      <th>EIF1AY</th>\n",
       "    </tr>\n",
       "  </thead>\n",
       "  <tbody>\n",
       "    <tr>\n",
       "      <th>0</th>\n",
       "      <td>STT5425_Breast_001_normal</td>\n",
       "      <td>normal</td>\n",
       "      <td>1.257614</td>\n",
       "      <td>2.408148</td>\n",
       "      <td>13.368622</td>\n",
       "      <td>9.494779</td>\n",
       "      <td>20.880435</td>\n",
       "      <td>12.722017</td>\n",
       "      <td>9.494779</td>\n",
       "      <td>54.349694</td>\n",
       "      <td>...</td>\n",
       "      <td>4.761250</td>\n",
       "      <td>1.257614</td>\n",
       "      <td>1.257614</td>\n",
       "      <td>1.257614</td>\n",
       "      <td>1.257614</td>\n",
       "      <td>1.257614</td>\n",
       "      <td>23.268694</td>\n",
       "      <td>1.257614</td>\n",
       "      <td>1.257614</td>\n",
       "      <td>1.257614</td>\n",
       "    </tr>\n",
       "    <tr>\n",
       "      <th>1</th>\n",
       "      <td>STT5427_Breast_023_normal</td>\n",
       "      <td>normal</td>\n",
       "      <td>4.567931</td>\n",
       "      <td>16.602734</td>\n",
       "      <td>42.477752</td>\n",
       "      <td>25.562376</td>\n",
       "      <td>23.221137</td>\n",
       "      <td>11.622386</td>\n",
       "      <td>14.330573</td>\n",
       "      <td>72.445474</td>\n",
       "      <td>...</td>\n",
       "      <td>6.871902</td>\n",
       "      <td>1.815112</td>\n",
       "      <td>1.815112</td>\n",
       "      <td>1.815112</td>\n",
       "      <td>1.815112</td>\n",
       "      <td>1.815112</td>\n",
       "      <td>10.427023</td>\n",
       "      <td>1.815112</td>\n",
       "      <td>1.815112</td>\n",
       "      <td>1.815112</td>\n",
       "    </tr>\n",
       "    <tr>\n",
       "      <th>2</th>\n",
       "      <td>STT5430_Breast_002_normal</td>\n",
       "      <td>normal</td>\n",
       "      <td>2.077597</td>\n",
       "      <td>3.978294</td>\n",
       "      <td>12.863214</td>\n",
       "      <td>13.728915</td>\n",
       "      <td>14.543176</td>\n",
       "      <td>14.141907</td>\n",
       "      <td>6.232790</td>\n",
       "      <td>57.011005</td>\n",
       "      <td>...</td>\n",
       "      <td>7.096343</td>\n",
       "      <td>2.077597</td>\n",
       "      <td>2.077597</td>\n",
       "      <td>2.077597</td>\n",
       "      <td>2.077597</td>\n",
       "      <td>2.077597</td>\n",
       "      <td>22.344226</td>\n",
       "      <td>2.077597</td>\n",
       "      <td>2.077597</td>\n",
       "      <td>2.077597</td>\n",
       "    </tr>\n",
       "    <tr>\n",
       "      <th>3</th>\n",
       "      <td>STT5439_Breast_003_normal</td>\n",
       "      <td>normal</td>\n",
       "      <td>2.066576</td>\n",
       "      <td>8.520713</td>\n",
       "      <td>14.466035</td>\n",
       "      <td>7.823932</td>\n",
       "      <td>8.520713</td>\n",
       "      <td>2.066576</td>\n",
       "      <td>10.870009</td>\n",
       "      <td>53.292034</td>\n",
       "      <td>...</td>\n",
       "      <td>5.200770</td>\n",
       "      <td>2.066576</td>\n",
       "      <td>2.066576</td>\n",
       "      <td>2.066576</td>\n",
       "      <td>2.066576</td>\n",
       "      <td>2.066576</td>\n",
       "      <td>49.295538</td>\n",
       "      <td>2.066576</td>\n",
       "      <td>2.066576</td>\n",
       "      <td>2.066576</td>\n",
       "    </tr>\n",
       "    <tr>\n",
       "      <th>4</th>\n",
       "      <td>STT5441_Breast_004_normal</td>\n",
       "      <td>normal</td>\n",
       "      <td>2.613616</td>\n",
       "      <td>3.434965</td>\n",
       "      <td>12.682222</td>\n",
       "      <td>10.543189</td>\n",
       "      <td>26.688686</td>\n",
       "      <td>12.484822</td>\n",
       "      <td>1.364917</td>\n",
       "      <td>67.140393</td>\n",
       "      <td>...</td>\n",
       "      <td>11.227770</td>\n",
       "      <td>1.364917</td>\n",
       "      <td>1.364917</td>\n",
       "      <td>1.364917</td>\n",
       "      <td>1.364917</td>\n",
       "      <td>1.364917</td>\n",
       "      <td>23.627911</td>\n",
       "      <td>1.364917</td>\n",
       "      <td>1.364917</td>\n",
       "      <td>1.364917</td>\n",
       "    </tr>\n",
       "  </tbody>\n",
       "</table>\n",
       "<p>5 rows × 15750 columns</p>\n",
       "</div>"
      ],
      "text/plain": [
       "                  Patient_id Diagnosis  LOC643837  LOC100130417     SAMD11  \\\n",
       "0  STT5425_Breast_001_normal    normal   1.257614      2.408148  13.368622   \n",
       "1  STT5427_Breast_023_normal    normal   4.567931     16.602734  42.477752   \n",
       "2  STT5430_Breast_002_normal    normal   2.077597      3.978294  12.863214   \n",
       "3  STT5439_Breast_003_normal    normal   2.066576      8.520713  14.466035   \n",
       "4  STT5441_Breast_004_normal    normal   2.613616      3.434965  12.682222   \n",
       "\n",
       "       NOC2L     KLHL17    PLEKHN1   C1orf170       HES4    ...         CLIC2  \\\n",
       "0   9.494779  20.880435  12.722017   9.494779  54.349694    ...      4.761250   \n",
       "1  25.562376  23.221137  11.622386  14.330573  72.445474    ...      6.871902   \n",
       "2  13.728915  14.543176  14.141907   6.232790  57.011005    ...      7.096343   \n",
       "3   7.823932   8.520713   2.066576  10.870009  53.292034    ...      5.200770   \n",
       "4  10.543189  26.688686  12.484822   1.364917  67.140393    ...     11.227770   \n",
       "\n",
       "     RPS4Y1       ZFY      PRKY     USP9Y     DDX3Y       CD24  CYorf15B  \\\n",
       "0  1.257614  1.257614  1.257614  1.257614  1.257614  23.268694  1.257614   \n",
       "1  1.815112  1.815112  1.815112  1.815112  1.815112  10.427023  1.815112   \n",
       "2  2.077597  2.077597  2.077597  2.077597  2.077597  22.344226  2.077597   \n",
       "3  2.066576  2.066576  2.066576  2.066576  2.066576  49.295538  2.066576   \n",
       "4  1.364917  1.364917  1.364917  1.364917  1.364917  23.627911  1.364917   \n",
       "\n",
       "      KDM5D    EIF1AY  \n",
       "0  1.257614  1.257614  \n",
       "1  1.815112  1.815112  \n",
       "2  2.077597  2.077597  \n",
       "3  2.066576  2.066576  \n",
       "4  1.364917  1.364917  \n",
       "\n",
       "[5 rows x 15750 columns]"
      ]
     },
     "execution_count": 7,
     "metadata": {},
     "output_type": "execute_result"
    }
   ],
   "source": [
    "data.head()"
   ]
  },
  {
   "cell_type": "code",
   "execution_count": 11,
   "metadata": {},
   "outputs": [
    {
     "data": {
      "text/plain": [
       "<matplotlib.axes._subplots.AxesSubplot at 0x10ae36710>"
      ]
     },
     "execution_count": 11,
     "metadata": {},
     "output_type": "execute_result"
    },
    {
     "data": {
      "image/png": "[encoded data removed]",
      "text/plain": [
       "<matplotlib.figure.Figure at 0x10ae3ef50>"
      ]
     },
     "metadata": {},
     "output_type": "display_data"
    }
   ],
   "source": [
    "data['Diagnosis'].hist()"
   ]
  },
  {
   "cell_type": "code",
   "execution_count": 14,
   "metadata": {},
   "outputs": [
    {
     "data": {
      "text/plain": [
       "(72, 15750)"
      ]
     },
     "execution_count": 14,
     "metadata": {},
     "output_type": "execute_result"
    }
   ],
   "source": [
    "data.shape"
   ]
  },
  {
   "cell_type": "code",
   "execution_count": 22,
   "metadata": {},
   "outputs": [],
   "source": [
    "data_norm = data[data['Diagnosis']== 'normal']\n",
    "data_earl = data[data['Diagnosis']== 'early neoplasia']\n",
    "data_can = data[data['Diagnosis']== 'cancer']"
   ]
  },
  {
   "cell_type": "code",
   "execution_count": 23,
   "metadata": {
    "collapsed": true
   },
   "outputs": [
    {
     "data": {
      "text/plain": [
       "LOC643837         2.681277\n",
       "LOC100130417      4.368497\n",
       "SAMD11           15.159566\n",
       "NOC2L            15.374351\n",
       "KLHL17           21.459886\n",
       "PLEKHN1           9.374537\n",
       "C1orf170          8.105567\n",
       "HES4             58.080871\n",
       "ISG15            34.983861\n",
       "AGRN             62.870812\n",
       "C1orf159         40.998143\n",
       "LOC254099         5.765640\n",
       "TTLL10            7.570590\n",
       "TNFRSF18         20.431867\n",
       "TNFRSF4          21.445479\n",
       "SDF4             85.687978\n",
       "B3GALT6          18.973388\n",
       "FAM132A          15.637257\n",
       "UBE2J2           47.335983\n",
       "SCNN1D           40.180920\n",
       "ACAP3            60.390477\n",
       "PUSL1            22.005108\n",
       "CPSF3L           61.147919\n",
       "GLTPD1           37.209867\n",
       "DVL1             33.662830\n",
       "MXRA8           102.774844\n",
       "AURKAIP1         73.471133\n",
       "CCNL2            45.276912\n",
       "LOC148413        15.811723\n",
       "MRPL20           23.260916\n",
       "                   ...    \n",
       "DNASE1L1         19.837260\n",
       "TAZ              30.695763\n",
       "ATP6AP1          86.389337\n",
       "GDI1             68.705681\n",
       "FAM50A           50.036077\n",
       "PLXNA3           26.239860\n",
       "LAGE3            26.107861\n",
       "UBL4A            31.090982\n",
       "SLC10A3          12.109389\n",
       "FAM3A            46.402395\n",
       "G6PD             47.952482\n",
       "GAB3              4.493302\n",
       "DKC1             18.576822\n",
       "MPP1              8.626111\n",
       "F8                4.545478\n",
       "FUNDC2            5.698553\n",
       "MTCP1NB           9.772216\n",
       "MTCP1             3.331414\n",
       "VBP1              9.067134\n",
       "RAB39B            3.161759\n",
       "CLIC2             6.242498\n",
       "RPS4Y1            2.104486\n",
       "ZFY               1.662368\n",
       "PRKY              1.842830\n",
       "USP9Y             1.525062\n",
       "DDX3Y             1.701654\n",
       "CD24             17.106405\n",
       "CYorf15B          1.576004\n",
       "KDM5D             1.960442\n",
       "EIF1AY            1.568210\n",
       "Length: 15748, dtype: float64"
      ]
     },
     "execution_count": 23,
     "metadata": {},
     "output_type": "execute_result"
    }
   ],
   "source": [
    "data_norm.mean()"
   ]
  },
  {
   "cell_type": "markdown",
   "metadata": {},
   "source": [
    "# Применение критерия Стьюдента для двух независимых выборок (без учета множественной проверки)"
   ]
  },
  {
   "cell_type": "code",
   "execution_count": 28,
   "metadata": {},
   "outputs": [],
   "source": [
    "import scipy.stats"
   ]
  },
  {
   "cell_type": "code",
   "execution_count": 34,
   "metadata": {
    "collapsed": true
   },
   "outputs": [
    {
     "data": {
      "text/plain": [
       "0     STT5425_Breast_001_normal\n",
       "1     STT5427_Breast_023_normal\n",
       "2     STT5430_Breast_002_normal\n",
       "3     STT5439_Breast_003_normal\n",
       "4     STT5441_Breast_004_normal\n",
       "5     STT5446_Breast_005_normal\n",
       "6     STT5451_Breast_006_normal\n",
       "7     STT5466_Breast_007_normal\n",
       "8     STT5472_Breast_008_normal\n",
       "9     STT5475_Breast_009_normal\n",
       "10    STT5502_Breast_010_normal\n",
       "11    STT5510_Breast_011_normal\n",
       "12    STT5570_Breast_013_normal\n",
       "13    STT5573_Breast_014_normal\n",
       "14    STT5576_Breast_015_normal\n",
       "15    STT5611_Breast_017_normal\n",
       "16    STT5617_Breast_019_normal\n",
       "17    STT5620_Breast_018_normal\n",
       "18    STT5668_Breast_020_normal\n",
       "19    STT5749_Breast_021_normal\n",
       "20    STT5756_Breast_022_normal\n",
       "21    STT5761_Breast_022_normal\n",
       "22    STT5828_Breast_024_normal\n",
       "23    STT5831_Breast_024_normal\n",
       "24        STT5424_Breast_001_EN\n",
       "25        STT5431_Breast_002_EN\n",
       "26        STT5442_Breast_004_EN\n",
       "27        STT5445_Breast_005_EN\n",
       "28        STT5511_Breast_011_EN\n",
       "29        STT5426_Breast_023_EN\n",
       "                ...            \n",
       "42        STT5619_Breast_018_EN\n",
       "43        STT5667_Breast_020_EN\n",
       "44        STT5747_Breast_021_EN\n",
       "45        STT5754_Breast_022_EN\n",
       "46        STT5829_Breast_024_EN\n",
       "47        STT5830_Breast_024_EN\n",
       "48        STT6088_Breast_022_EN\n",
       "49      STT5437_Breast_003_DCIS\n",
       "50      STT5450_Breast_006_DCIS\n",
       "51      STT5462_Breast_007_DCIS\n",
       "52       STT5463_Breast_007_IDC\n",
       "53       STT5474_Breast_008_IDC\n",
       "54       STT5477_Breast_009_IDC\n",
       "55      STT5504_Breast_010_DCIS\n",
       "56      STT5568_Breast_012_DCIS\n",
       "57       STT5572_Breast_013_IDC\n",
       "58       STT5575_Breast_014_IDC\n",
       "59       STT5578_Breast_015_IDC\n",
       "60       STT5581_Breast_016_IDC\n",
       "61      STT5613_Breast_017_DCIS\n",
       "62       STT5614_Breast_019_IDC\n",
       "63      STT5618_Breast_018_DCIS\n",
       "64      STT5669_Breast_020_DCIS\n",
       "65       STT5670_Breast_020_IDC\n",
       "66       STT5706_Breast_025_IDC\n",
       "67      STT5750_Breast_021_DCIS\n",
       "68       STT5751_Breast_021_IDC\n",
       "69       STT5758_Breast_022_IDC\n",
       "70       STT5763_Breast_022_IDC\n",
       "71       STT5825_Breast_024_IDC\n",
       "Name: Patient_id, Length: 72, dtype: object"
      ]
     },
     "execution_count": 34,
     "metadata": {},
     "output_type": "execute_result"
    }
   ],
   "source": [
    "data.iloc[:,0]"
   ]
  },
  {
   "cell_type": "code",
   "execution_count": 35,
   "metadata": {},
   "outputs": [],
   "source": [
    "for i in range (2,data.shape[1]):\n",
    "    if i == 2:\n",
    "        p_val_n_e = np.array (scipy.stats.ttest_ind(data_norm.iloc[:,i], data_earl.iloc[:,i], equal_var = False)[1])\n",
    "    else:\n",
    "        p_val_n_e = np.append (p_val_n_e, scipy.stats.ttest_ind(data_norm.iloc[:,i], data_earl.iloc[:,i], equal_var = False)[1])"
   ]
  },
  {
   "cell_type": "code",
   "execution_count": 38,
   "metadata": {},
   "outputs": [
    {
     "name": "stdout",
     "output_type": "stream",
     "text": [
      "1575\n"
     ]
    }
   ],
   "source": [
    "count1 = 0\n",
    "for i in p_val_n_e:\n",
    "    if i <0.05:\n",
    "        count1 +=1\n",
    "print count1"
   ]
  },
  {
   "cell_type": "code",
   "execution_count": 40,
   "metadata": {},
   "outputs": [],
   "source": [
    "for i in range (2,data.shape[1]):\n",
    "    if i == 2:\n",
    "        p_val_e_c = np.array (scipy.stats.ttest_ind(data_earl.iloc[:,i], data_can.iloc[:,i], equal_var = False)[1])\n",
    "    else:\n",
    "        p_val_e_c = np.append (p_val_e_c, scipy.stats.ttest_ind(data_earl.iloc[:,i], data_can.iloc[:,i], equal_var = False)[1])"
   ]
  },
  {
   "cell_type": "code",
   "execution_count": 42,
   "metadata": {},
   "outputs": [
    {
     "name": "stdout",
     "output_type": "stream",
     "text": [
      "3490\n"
     ]
    }
   ],
   "source": [
    "count2 = 0\n",
    "for i in p_val_e_c:\n",
    "    if i <0.05:\n",
    "        count2 +=1\n",
    "print count2"
   ]
  },
  {
   "cell_type": "code",
   "execution_count": 77,
   "metadata": {},
   "outputs": [],
   "source": [
    "answer1 = open ('answer1_1.txt', 'w')\n",
    "answer1.write (str(count1))\n",
    "answer1.close()\n",
    "answer1_1 = open ('answer1_2.txt', 'w')\n",
    "answer1_1.write (str(count2))\n",
    "answer1_1.close()"
   ]
  },
  {
   "cell_type": "markdown",
   "metadata": {},
   "source": [
    "# Применение поправки на множественную проверку гипотез методом Холма, с поправкой Бонферони на то что кол-во тестов * 2 (те 0.05/2)"
   ]
  },
  {
   "cell_type": "code",
   "execution_count": null,
   "metadata": {},
   "outputs": [],
   "source": []
  },
  {
   "cell_type": "code",
   "execution_count": 45,
   "metadata": {},
   "outputs": [],
   "source": [
    "import statsmodels.stats.multitest as smm"
   ]
  },
  {
   "cell_type": "code",
   "execution_count": 53,
   "metadata": {},
   "outputs": [],
   "source": [
    "trfl_1 = smm.multipletests (p_val_n_e, alpha = 0.025, method='h')"
   ]
  },
  {
   "cell_type": "code",
   "execution_count": 51,
   "metadata": {},
   "outputs": [
    {
     "name": "stdout",
     "output_type": "stream",
     "text": [
      "2\n"
     ]
    }
   ],
   "source": [
    "count3 = 0\n",
    "for i in trfl_1[0]:\n",
    "    if i == True:\n",
    "        count3 +=1\n",
    "print count3"
   ]
  },
  {
   "cell_type": "code",
   "execution_count": 66,
   "metadata": {},
   "outputs": [],
   "source": [
    "trfl_2 = smm.multipletests (p_val_e_c, alpha = 0.025, method='h')"
   ]
  },
  {
   "cell_type": "code",
   "execution_count": 55,
   "metadata": {},
   "outputs": [
    {
     "name": "stdout",
     "output_type": "stream",
     "text": [
      "79\n"
     ]
    }
   ],
   "source": [
    "count4 = 0\n",
    "for i in trfl_2[0]:\n",
    "    if i == True:\n",
    "        count4 +=1\n",
    "print count4"
   ]
  },
  {
   "cell_type": "code",
   "execution_count": 57,
   "metadata": {},
   "outputs": [
    {
     "name": "stdout",
     "output_type": "stream",
     "text": [
      "0.662345751693 1.50978548204\n",
      "0.506363042648 1.97486766564\n",
      "2\n"
     ]
    }
   ],
   "source": [
    "count_true = 0\n",
    "for i in range (len(p_val_n_e)):\n",
    "    if trfl_1[0][i] == True:\n",
    "        c_t = data_norm.iloc[:,i+2].mean()/data_earl.iloc[:,i+2].mean()\n",
    "        t_c = data_earl.iloc[:,i+2].mean()/data_norm.iloc[:,i+2].mean()\n",
    "        print c_t, t_c\n",
    "        if abs(c_t) > 1.5 or abs (t_c)>1.5:\n",
    "            count_true +=1\n",
    "print count_true"
   ]
  },
  {
   "cell_type": "code",
   "execution_count": 59,
   "metadata": {
    "collapsed": true
   },
   "outputs": [
    {
     "name": "stdout",
     "output_type": "stream",
     "text": [
      "0.542340491815 1.84386011204\n",
      "2.38320974415 0.419602178303\n",
      "1.99738074082 0.500655673485\n",
      "1.69342761144 0.590518303378\n",
      "1.79563968436 0.55690459991\n",
      "2.11952258723 0.471804361051\n",
      "1.63002308255 0.613488244863\n",
      "2.44923266841 0.40829114069\n",
      "3.033566156 0.329645027857\n",
      "2.79378540309 0.357937298582\n",
      "2.12593349477 0.470381600582\n",
      "1.93779594564 0.516050207583\n",
      "1.67439355036 0.59723115858\n",
      "2.00497753952 0.498758704418\n",
      "4.36483977332 0.22910348419\n",
      "2.32349962603 0.43038526402\n",
      "1.74724270238 0.572330334325\n",
      "2.04564868374 0.488842491845\n",
      "1.64752394755 0.606971450391\n",
      "2.73697372929 0.365367043643\n",
      "2.14045835529 0.467189654744\n",
      "1.54883106428 0.64564820726\n",
      "2.57649901789 0.388123571193\n",
      "1.85423080254 0.539307187988\n",
      "2.90551507352 0.344173055275\n",
      "0.436911627916 2.28879236922\n",
      "2.67593247265 0.373701507875\n",
      "2.2089634178 0.452701023449\n",
      "2.00240242001 0.499400115584\n",
      "2.15360832016 0.464336987668\n",
      "1.81647501224 0.550516793934\n",
      "1.71870946564 0.581831903526\n",
      "2.12017726317 0.471658675607\n",
      "1.99635969513 0.500911735717\n",
      "2.09338186534 0.477695931429\n",
      "2.81788760862 0.35487575762\n",
      "2.24641148522 0.445154419205\n",
      "2.38049625931 0.420080475275\n",
      "1.81757066845 0.550184934956\n",
      "2.78462156861 0.359115224587\n",
      "2.44265404461 0.409390761745\n",
      "1.81955962545 0.549583528901\n",
      "2.27908595741 0.43877239327\n",
      "2.67543519355 0.373770967209\n",
      "3.35214597509 0.298316364332\n",
      "1.89336569513 0.52815998651\n",
      "1.9900801791 0.502492316893\n",
      "2.08237955099 0.480219852103\n",
      "0.603667606143 1.65654076817\n",
      "1.80525445662 0.553938530013\n",
      "2.17177846698 0.460452120326\n",
      "1.98851437498 0.502887991448\n",
      "1.65060262587 0.605839336693\n",
      "2.75708796551 0.3627015215\n",
      "2.38109114178 0.419975524017\n",
      "2.8186377183 0.354781316346\n",
      "2.79130033721 0.358255966465\n",
      "1.83683151308 0.544415746833\n",
      "2.0357540305 0.491218479746\n",
      "2.01139627207 0.497167074378\n",
      "1.7624813203 0.567381899871\n",
      "2.56307302829 0.390156655296\n",
      "1.63641323051 0.611092590402\n",
      "0.418727951419 2.38818544741\n",
      "1.99559480097 0.501103730834\n",
      "0.745282035119 1.341773923\n",
      "2.1682175748 0.461208326887\n",
      "2.53383818332 0.39465819348\n",
      "1.59816782636 0.625716513315\n",
      "2.15903711771 0.463169434095\n",
      "2.52563093758 0.395940667783\n",
      "0.766302194871 1.30496820535\n",
      "2.07890486518 0.48102249254\n",
      "4.30808606448 0.232121639408\n",
      "2.86894015995 0.348560773055\n",
      "3.2244947051 0.310126110122\n",
      "2.55915048106 0.390754669333\n",
      "1.87043375407 0.534635347456\n",
      "1.75854614672 0.568651554503\n",
      "77\n"
     ]
    }
   ],
   "source": [
    "count_true2 = 0\n",
    "for i in range (len(p_val_e_c)):\n",
    "    if trfl_2[0][i] == True:\n",
    "        c_t = data_earl.iloc[:,i+2].mean()/data_can.iloc[:,i+2].mean()\n",
    "        t_c = data_can.iloc[:,i+2].mean()/data_earl.iloc[:,i+2].mean()\n",
    "        print c_t, t_c\n",
    "        if abs(c_t) > 1.5 or abs (t_c)>1.5:\n",
    "            count_true2 +=1\n",
    "print count_true2"
   ]
  },
  {
   "cell_type": "code",
   "execution_count": 78,
   "metadata": {},
   "outputs": [],
   "source": [
    "answer2 = open ('answer2_1.txt', 'w')\n",
    "answer2.write (str(count_true))\n",
    "answer2.close()\n",
    "answer2_2 = open ('answer2_2.txt', 'w')\n",
    "answer2_2.write (str(count_true2))\n",
    "answer2_2.close()"
   ]
  },
  {
   "cell_type": "markdown",
   "metadata": {},
   "source": [
    "# Применение поправки на множественную проверку гипотез методом Бенжамини-Хохберта, с поправкой Бонферони на то что кол-во тестов * 2 (те 0.05/2"
   ]
  },
  {
   "cell_type": "code",
   "execution_count": 62,
   "metadata": {},
   "outputs": [],
   "source": [
    "trfl_3 = smm.multipletests (p_val_n_e, alpha = 0.025, method='fdr_bh')"
   ]
  },
  {
   "cell_type": "code",
   "execution_count": 67,
   "metadata": {},
   "outputs": [
    {
     "name": "stdout",
     "output_type": "stream",
     "text": [
      "4\n"
     ]
    }
   ],
   "source": [
    "count5 = 0\n",
    "for i in trfl_3[0]:\n",
    "    if i == True:\n",
    "        count5 +=1\n",
    "print count5"
   ]
  },
  {
   "cell_type": "code",
   "execution_count": 69,
   "metadata": {},
   "outputs": [],
   "source": [
    "trfl_4 = smm.multipletests (p_val_e_c, alpha = 0.025, method='fdr_bh')"
   ]
  },
  {
   "cell_type": "code",
   "execution_count": 70,
   "metadata": {},
   "outputs": [
    {
     "name": "stdout",
     "output_type": "stream",
     "text": [
      "832\n"
     ]
    }
   ],
   "source": [
    "count6 = 0\n",
    "for i in trfl_4[0]:\n",
    "    if i == True:\n",
    "        count6 +=1\n",
    "print count6"
   ]
  },
  {
   "cell_type": "code",
   "execution_count": 73,
   "metadata": {},
   "outputs": [
    {
     "name": "stdout",
     "output_type": "stream",
     "text": [
      "4\n"
     ]
    }
   ],
   "source": [
    "count_true3 = 0\n",
    "for i in range (len(p_val_n_e)):\n",
    "    if trfl_3[0][i] == True:\n",
    "        c_t = data_norm.iloc[:,i+2].mean()/data_earl.iloc[:,i+2].mean()\n",
    "        t_c = data_earl.iloc[:,i+2].mean()/data_norm.iloc[:,i+2].mean()\n",
    "        if abs(c_t) > 1.5 or abs (t_c)>1.5:\n",
    "            count_true3 +=1\n",
    "print count_true3"
   ]
  },
  {
   "cell_type": "code",
   "execution_count": 75,
   "metadata": {},
   "outputs": [
    {
     "name": "stdout",
     "output_type": "stream",
     "text": [
      "524\n"
     ]
    }
   ],
   "source": [
    "count_true4 = 0\n",
    "for i in range (len(p_val_e_c)):\n",
    "    if trfl_4[0][i] == True:\n",
    "        c_t = data_earl.iloc[:,i+2].mean()/data_can.iloc[:,i+2].mean()\n",
    "        t_c = data_can.iloc[:,i+2].mean()/data_earl.iloc[:,i+2].mean()\n",
    "        if abs(c_t) > 1.5 or abs (t_c)>1.5:\n",
    "            count_true4 +=1\n",
    "print count_true4"
   ]
  },
  {
   "cell_type": "code",
   "execution_count": 79,
   "metadata": {},
   "outputs": [],
   "source": [
    "answer3 = open ('answer3_1.txt', 'w')\n",
    "answer3.write (str(count_true3))\n",
    "answer3.close()\n",
    "answer3_2 = open ('answer3_2.txt', 'w')\n",
    "answer3_2.write (str(count_true4))\n",
    "answer3_2.close()"
   ]
  }
 ],
 "metadata": {
  "kernelspec": {
   "display_name": "Python 2",
   "language": "python",
   "name": "python2"
  },
  "language_info": {
   "codemirror_mode": {
    "name": "ipython",
    "version": 2
   },
   "file_extension": ".py",
   "mimetype": "text/x-python",
   "name": "python",
   "nbconvert_exporter": "python",
   "pygments_lexer": "ipython2",
   "version": "2.7.14"
  }
 },
 "nbformat": 4,
 "nbformat_minor": 2
}
