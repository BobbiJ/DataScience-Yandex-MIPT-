{
 "cells": [
  {
   "cell_type": "code",
   "execution_count": 5,
   "metadata": {},
   "outputs": [],
   "source": [
    "dataset = open ('umn_foursquare_datasets/checkins.dat','r')"
   ]
  },
  {
   "cell_type": "code",
   "execution_count": 9,
   "metadata": {},
   "outputs": [],
   "source": [
    "dataset.close()"
   ]
  },
  {
   "cell_type": "code",
   "execution_count": 10,
   "metadata": {},
   "outputs": [],
   "source": [
    "import pandas as pd"
   ]
  },
  {
   "cell_type": "code",
   "execution_count": 25,
   "metadata": {},
   "outputs": [],
   "source": [
    "dataset = pd.read_csv ('umn_foursquare_datasets/checkins.dat', sep = '|',header=0)"
   ]
  },
  {
   "cell_type": "code",
   "execution_count": 34,
   "metadata": {},
   "outputs": [
    {
     "data": {
      "text/plain": [
       "array(['   id    ', ' user_id ', ' venue_id ', '     latitude      ',\n",
       "       '     longitude     ', '     created_at      '], dtype=object)"
      ]
     },
     "execution_count": 34,
     "metadata": {},
     "output_type": "execute_result"
    }
   ],
   "source": [
    "dataset.columns.values"
   ]
  },
  {
   "cell_type": "code",
   "execution_count": 38,
   "metadata": {},
   "outputs": [],
   "source": [
    "dataset = dataset.drop(['   id    ', ' user_id ', ' venue_id ', '     created_at      '], axis = 1)"
   ]
  },
  {
   "cell_type": "code",
   "execution_count": 44,
   "metadata": {},
   "outputs": [],
   "source": [
    "dataset = dataset.dropna()"
   ]
  },
  {
   "cell_type": "code",
   "execution_count": 65,
   "metadata": {},
   "outputs": [],
   "source": [
    "dataset = dataset.rename(columns={'     latitude      ': 'latitude','     longitude     ':'longitude' })"
   ]
  },
  {
   "cell_type": "code",
   "execution_count": 70,
   "metadata": {},
   "outputs": [],
   "source": [
    "import numpy as np"
   ]
  },
  {
   "cell_type": "code",
   "execution_count": 71,
   "metadata": {},
   "outputs": [],
   "source": [
    "dataset['latitude'].replace('', np.nan, inplace=True)"
   ]
  },
  {
   "cell_type": "code",
   "execution_count": 73,
   "metadata": {},
   "outputs": [],
   "source": [
    "dataset['longitude'].replace('', np.nan, inplace=True)"
   ]
  },
  {
   "cell_type": "code",
   "execution_count": 75,
   "metadata": {},
   "outputs": [],
   "source": [
    "dataset = dataset.dropna()"
   ]
  },
  {
   "cell_type": "code",
   "execution_count": 85,
   "metadata": {},
   "outputs": [
    {
     "data": {
      "text/plain": [
       "(396634, 2)"
      ]
     },
     "execution_count": 85,
     "metadata": {},
     "output_type": "execute_result"
    }
   ],
   "source": [
    "dataset = dataset.apply(pd.to_numeric, errors='coerce') \n",
    "dataset = dataset.dropna()\n",
    "dataset.shape"
   ]
  },
  {
   "cell_type": "code",
   "execution_count": 86,
   "metadata": {},
   "outputs": [],
   "source": [
    "from sklearn import cluster"
   ]
  },
  {
   "cell_type": "code",
   "execution_count": 87,
   "metadata": {},
   "outputs": [],
   "source": [
    "clusterer = cluster.MeanShift (bandwidth=0.1)"
   ]
  },
  {
   "cell_type": "code",
   "execution_count": 90,
   "metadata": {},
   "outputs": [],
   "source": [
    "dataset_train = dataset [:100000]"
   ]
  },
  {
   "cell_type": "code",
   "execution_count": 92,
   "metadata": {},
   "outputs": [],
   "source": [
    "clus_fit = clusterer.fit (dataset_train)"
   ]
  },
  {
   "cell_type": "code",
   "execution_count": 103,
   "metadata": {},
   "outputs": [],
   "source": [
    "clusters = clus_fit.predict (dataset_train)"
   ]
  },
  {
   "cell_type": "code",
   "execution_count": 195,
   "metadata": {},
   "outputs": [
    {
     "name": "stderr",
     "output_type": "stream",
     "text": [
      "/anaconda2/lib/python2.7/site-packages/ipykernel_launcher.py:1: SettingWithCopyWarning: \n",
      "A value is trying to be set on a copy of a slice from a DataFrame.\n",
      "Try using .loc[row_indexer,col_indexer] = value instead\n",
      "\n",
      "See the caveats in the documentation: http://pandas.pydata.org/pandas-docs/stable/indexing.html#indexing-view-versus-copy\n",
      "  \"\"\"Entry point for launching an IPython kernel.\n"
     ]
    }
   ],
   "source": [
    "dataset_train['cluster'] = n2"
   ]
  },
  {
   "cell_type": "code",
   "execution_count": null,
   "metadata": {},
   "outputs": [],
   "source": []
  },
  {
   "cell_type": "code",
   "execution_count": 116,
   "metadata": {},
   "outputs": [],
   "source": [
    "n1 = np.array (dataset_train)\n",
    "n2 = np.array (clusters)"
   ]
  },
  {
   "cell_type": "code",
   "execution_count": 127,
   "metadata": {},
   "outputs": [],
   "source": []
  },
  {
   "cell_type": "code",
   "execution_count": 267,
   "metadata": {},
   "outputs": [],
   "source": [
    "from collections import Counter\n",
    "z = Counter (n2)\n",
    "z3 = np.array([], dtype = 'int')\n",
    "for xz in z.items():\n",
    "    if xz[1] > 15:\n",
    "        z3 =  (np.append (z3,xz[0]))"
   ]
  },
  {
   "cell_type": "code",
   "execution_count": 289,
   "metadata": {},
   "outputs": [
    {
     "data": {
      "text/plain": [
       "array([  40.764462, -111.904565,   66.      ])"
      ]
     },
     "execution_count": 289,
     "metadata": {},
     "output_type": "execute_result"
    }
   ],
   "source": [
    "np.array (dataset_train.iloc[3])"
   ]
  },
  {
   "cell_type": "code",
   "execution_count": 297,
   "metadata": {},
   "outputs": [],
   "source": [
    "dataset_train = dataset_train[dataset_train['cluster'].isin(z3)]"
   ]
  },
  {
   "cell_type": "code",
   "execution_count": 330,
   "metadata": {},
   "outputs": [
    {
     "name": "stdout",
     "output_type": "stream",
     "text": [
      "[[ 3.37512770e+01 -1.18188740e+02]\n",
      " [ 2.58677360e+01 -8.03241160e+01]\n",
      " [ 5.15030160e+01 -7.54790000e-02]\n",
      " [ 5.23788940e+01  4.88508400e+00]\n",
      " [ 3.93664870e+01  1.17036146e+02]\n",
      " [-3.38684570e+01  1.51205134e+02]]\n"
     ]
    }
   ],
   "source": [
    "how_dis = np.array([[33.751277, -118.188740]], dtype ='float')\n",
    "how_dis = np.vstack ((how_dis, [25.867736, -80.324116]))\n",
    "how_dis = np.vstack ((how_dis, [51.503016, -0.075479]))\n",
    "how_dis = np.vstack ((how_dis, [52.378894, 4.885084]))\n",
    "how_dis = np.vstack ((how_dis, [39.366487, 117.036146]))\n",
    "how_dis = np.vstack ((how_dis, [-33.868457, 151.205134]))\n",
    "print how_dis"
   ]
  },
  {
   "cell_type": "code",
   "execution_count": null,
   "metadata": {},
   "outputs": [],
   "source": []
  },
  {
   "cell_type": "code",
   "execution_count": 346,
   "metadata": {},
   "outputs": [
    {
     "name": "stdout",
     "output_type": "stream",
     "text": [
      "[-33.86063043 151.20477593]\n",
      "[-33.868457 151.205134]\n",
      "0.007834758163107856\n"
     ]
    }
   ],
   "source": [
    "dis_min = 1000000.0\n",
    "b_min = np.array([])\n",
    "k_min = np.array([])\n",
    "for i in z3:\n",
    "    b = dataset_train[dataset_train['cluster'] == i]\n",
    "    b = b.drop(['cluster'], axis = 1)\n",
    "    b = np.array (b.mean())\n",
    "    for k in how_dis:\n",
    "        distance = ((k[0] - b[0])**2 + (k[1]-b[1])**2)**0.5\n",
    "        if distance < dis_min:\n",
    "            dis_min = distance\n",
    "            b_min = b\n",
    "            k_min = k\n",
    "print b_min\n",
    "print k_min\n",
    "print dis_min"
   ]
  },
  {
   "cell_type": "code",
   "execution_count": 341,
   "metadata": {},
   "outputs": [],
   "source": [
    "with open ('answer1','w') as answer1:\n",
    "    answer1.write (str(b_min[0])+' '+str(b_min[1]))"
   ]
  }
 ],
 "metadata": {
  "kernelspec": {
   "display_name": "Python 2",
   "language": "python",
   "name": "python2"
  },
  "language_info": {
   "codemirror_mode": {
    "name": "ipython",
    "version": 2
   },
   "file_extension": ".py",
   "mimetype": "text/x-python",
   "name": "python",
   "nbconvert_exporter": "python",
   "pygments_lexer": "ipython2",
   "version": "2.7.14"
  }
 },
 "nbformat": 4,
 "nbformat_minor": 2
}
