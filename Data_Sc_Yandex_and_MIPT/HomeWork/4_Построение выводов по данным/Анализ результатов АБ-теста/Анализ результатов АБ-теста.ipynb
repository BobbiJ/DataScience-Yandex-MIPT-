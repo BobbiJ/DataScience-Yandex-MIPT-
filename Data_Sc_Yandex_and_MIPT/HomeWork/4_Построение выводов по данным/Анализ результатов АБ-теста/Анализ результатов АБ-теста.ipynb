{
 "cells": [
  {
   "cell_type": "code",
   "execution_count": 3,
   "metadata": {},
   "outputs": [],
   "source": [
    "import numpy as np\n",
    "import pandas as pd\n"
   ]
  },
  {
   "cell_type": "code",
   "execution_count": null,
   "metadata": {},
   "outputs": [],
   "source": [
    "import matplotlib.pyplot as plt"
   ]
  },
  {
   "cell_type": "code",
   "execution_count": 4,
   "metadata": {},
   "outputs": [],
   "source": [
    "import scipy.stats"
   ]
  },
  {
   "cell_type": "code",
   "execution_count": 35,
   "metadata": {},
   "outputs": [],
   "source": [
    "import statsmodels.sandbox.stats.multicomp"
   ]
  },
  {
   "cell_type": "code",
   "execution_count": 51,
   "metadata": {},
   "outputs": [
    {
     "name": "stdout",
     "output_type": "stream",
     "text": [
      "Populating the interactive namespace from numpy and matplotlib\n"
     ]
    }
   ],
   "source": [
    "%pylab inline"
   ]
  },
  {
   "cell_type": "code",
   "execution_count": 6,
   "metadata": {},
   "outputs": [],
   "source": [
    "data = pd.read_csv ('ab_browser_test.csv')"
   ]
  },
  {
   "cell_type": "code",
   "execution_count": 4,
   "metadata": {},
   "outputs": [
    {
     "data": {
      "text/html": [
       "<div>\n",
       "<style scoped>\n",
       "    .dataframe tbody tr th:only-of-type {\n",
       "        vertical-align: middle;\n",
       "    }\n",
       "\n",
       "    .dataframe tbody tr th {\n",
       "        vertical-align: top;\n",
       "    }\n",
       "\n",
       "    .dataframe thead th {\n",
       "        text-align: right;\n",
       "    }\n",
       "</style>\n",
       "<table border=\"1\" class=\"dataframe\">\n",
       "  <thead>\n",
       "    <tr style=\"text-align: right;\">\n",
       "      <th></th>\n",
       "      <th>userID</th>\n",
       "      <th>browser</th>\n",
       "      <th>slot</th>\n",
       "      <th>n_clicks</th>\n",
       "      <th>n_queries</th>\n",
       "      <th>n_nonclk_queries</th>\n",
       "    </tr>\n",
       "  </thead>\n",
       "  <tbody>\n",
       "    <tr>\n",
       "      <th>0</th>\n",
       "      <td>1</td>\n",
       "      <td>Browser #2</td>\n",
       "      <td>exp</td>\n",
       "      <td>23</td>\n",
       "      <td>32</td>\n",
       "      <td>19</td>\n",
       "    </tr>\n",
       "    <tr>\n",
       "      <th>1</th>\n",
       "      <td>3</td>\n",
       "      <td>Browser #4</td>\n",
       "      <td>exp</td>\n",
       "      <td>3</td>\n",
       "      <td>4</td>\n",
       "      <td>2</td>\n",
       "    </tr>\n",
       "    <tr>\n",
       "      <th>2</th>\n",
       "      <td>5</td>\n",
       "      <td>Browser #4</td>\n",
       "      <td>exp</td>\n",
       "      <td>29</td>\n",
       "      <td>35</td>\n",
       "      <td>16</td>\n",
       "    </tr>\n",
       "    <tr>\n",
       "      <th>3</th>\n",
       "      <td>6</td>\n",
       "      <td>Browser #4</td>\n",
       "      <td>control</td>\n",
       "      <td>12</td>\n",
       "      <td>6</td>\n",
       "      <td>0</td>\n",
       "    </tr>\n",
       "    <tr>\n",
       "      <th>4</th>\n",
       "      <td>7</td>\n",
       "      <td>Browser #4</td>\n",
       "      <td>exp</td>\n",
       "      <td>54</td>\n",
       "      <td>68</td>\n",
       "      <td>30</td>\n",
       "    </tr>\n",
       "  </tbody>\n",
       "</table>\n",
       "</div>"
      ],
      "text/plain": [
       "   userID     browser     slot  n_clicks  n_queries  n_nonclk_queries\n",
       "0       1  Browser #2      exp        23         32                19\n",
       "1       3  Browser #4      exp         3          4                 2\n",
       "2       5  Browser #4      exp        29         35                16\n",
       "3       6  Browser #4  control        12          6                 0\n",
       "4       7  Browser #4      exp        54         68                30"
      ]
     },
     "execution_count": 4,
     "metadata": {},
     "output_type": "execute_result"
    }
   ],
   "source": [
    "data.head()"
   ]
  },
  {
   "cell_type": "code",
   "execution_count": 7,
   "metadata": {},
   "outputs": [],
   "source": [
    "data_exp = data[data['slot'] == 'exp']\n",
    "data_contr = data[data['slot'] == 'control']"
   ]
  },
  {
   "cell_type": "code",
   "execution_count": 13,
   "metadata": {},
   "outputs": [
    {
     "name": "stdout",
     "output_type": "stream",
     "text": [
      "3261823\n",
      "3210027\n"
     ]
    }
   ],
   "source": [
    "print data_exp['n_clicks'].sum()\n",
    "print data_contr['n_clicks'].sum()"
   ]
  },
  {
   "cell_type": "code",
   "execution_count": 21,
   "metadata": {},
   "outputs": [
    {
     "data": {
      "text/plain": [
       "1.614"
      ]
     },
     "execution_count": 21,
     "metadata": {},
     "output_type": "execute_result"
    }
   ],
   "source": [
    "round ((float(data_exp['n_clicks'].sum())/data_contr['n_clicks'].sum() - 1)*100,3)"
   ]
  },
  {
   "cell_type": "code",
   "execution_count": 22,
   "metadata": {},
   "outputs": [],
   "source": [
    "def get_bootstrap_samples(data, n_samples):\n",
    "    indices = np.random.randint(0, len(data), (n_samples, len(data)))\n",
    "    samples = data[indices]\n",
    "    return samples"
   ]
  },
  {
   "cell_type": "code",
   "execution_count": 23,
   "metadata": {},
   "outputs": [],
   "source": [
    "def stat_intervals(stat, alpha):\n",
    "    boundaries = np.percentile(stat, [100 * alpha / 2., 100 * (1 - alpha / 2.)])\n",
    "    return boundaries"
   ]
  },
  {
   "cell_type": "code",
   "execution_count": 24,
   "metadata": {},
   "outputs": [],
   "source": [
    "n_click_exp = data_exp['n_clicks']\n",
    "n_click_contr = data_contr['n_clicks']"
   ]
  },
  {
   "cell_type": "code",
   "execution_count": 27,
   "metadata": {},
   "outputs": [
    {
     "name": "stdout",
     "output_type": "stream",
     "text": [
      "95% confidence interval for the ILEC median repair time: [5. 5.]\n",
      "95% confidence interval for the CLEC median repair time: [4. 4.]\n"
     ]
    }
   ],
   "source": [
    "np.random.seed(0)\n",
    "\n",
    "n_click_exp_median_scores = map(np.median, get_bootstrap_samples(np.array(n_click_exp), 1000))\n",
    "n_click_contr_median_scores = map(np.median, get_bootstrap_samples(np.array(n_click_contr), 1000))\n",
    "\n",
    "print \"95% confidence interval for the ILEC median repair time:\",  stat_intervals(n_click_exp_median_scores, 0.05)\n",
    "print \"95% confidence interval for the CLEC median repair time:\",  stat_intervals(n_click_contr_median_scores, 0.05)"
   ]
  },
  {
   "cell_type": "code",
   "execution_count": 28,
   "metadata": {},
   "outputs": [],
   "source": [
    "delta_median_scores = map(lambda x: x[1] - x[0], zip(n_click_exp_median_scores, n_click_contr_median_scores))"
   ]
  },
  {
   "cell_type": "code",
   "execution_count": 29,
   "metadata": {},
   "outputs": [
    {
     "name": "stdout",
     "output_type": "stream",
     "text": [
      "95% confidence interval for the difference between medians [-1. -1.]\n"
     ]
    }
   ],
   "source": [
    "print \"95% confidence interval for the difference between medians\",  stat_intervals(delta_median_scores, 0.05)"
   ]
  },
  {
   "cell_type": "code",
   "execution_count": 30,
   "metadata": {},
   "outputs": [
    {
     "name": "stdout",
     "output_type": "stream",
     "text": [
      "95% confidence interval for the ILEC median repair time: [11.5086867  11.66089388]\n",
      "95% confidence interval for the CLEC median repair time: [11.20795095 11.35742732]\n"
     ]
    }
   ],
   "source": [
    "np.random.seed(0)\n",
    "\n",
    "n_click_exp_mean_scores = map(np.mean, get_bootstrap_samples(np.array(n_click_exp), 1000))\n",
    "n_click_contr_mean_scores = map(np.mean, get_bootstrap_samples(np.array(n_click_contr), 1000))\n",
    "\n",
    "print \"95% confidence interval for the ILEC median repair time:\",  stat_intervals(n_click_exp_mean_scores, 0.05)\n",
    "print \"95% confidence interval for the CLEC median repair time:\",  stat_intervals(n_click_contr_mean_scores, 0.05)"
   ]
  },
  {
   "cell_type": "code",
   "execution_count": 32,
   "metadata": {},
   "outputs": [],
   "source": [
    "delta_mean_scores = map(lambda x: x[1] - x[0], zip(n_click_exp_mean_scores, n_click_contr_mean_scores))"
   ]
  },
  {
   "cell_type": "code",
   "execution_count": 34,
   "metadata": {},
   "outputs": [
    {
     "name": "stdout",
     "output_type": "stream",
     "text": [
      "95% confidence interval for the difference between medians [-0.40475697 -0.19172563]\n"
     ]
    }
   ],
   "source": [
    "print \"95% confidence interval for the difference between medians\",  stat_intervals(delta_mean_scores, 0.05)"
   ]
  },
  {
   "cell_type": "code",
   "execution_count": 46,
   "metadata": {},
   "outputs": [
    {
     "name": "stdout",
     "output_type": "stream",
     "text": [
      "0\n"
     ]
    }
   ],
   "source": [
    "boot_sample_mean = []\n",
    "boot_chi_square = []\n",
    "np.random.seed(0)\n",
    "boot_samples = get_bootstrap_samples(np.array(n_click_contr), 100)\n",
    "k = 0\n",
    "for i in boot_samples:\n",
    "    boot_sample_mean.append (i.mean())\n",
    "    comulat_chi_square = 0\n",
    "    if k%100 ==0:\n",
    "        print k\n",
    "    for j in i:\n",
    "        comulat_chi_square += (boot_sample_mean[k] - j)**2\n",
    "    k +=1\n",
    "    boot_chi_square.append (comulat_chi_square)"
   ]
  },
  {
   "cell_type": "code",
   "execution_count": 49,
   "metadata": {},
   "outputs": [],
   "source": [
    "boot_sample_mean = np.array(boot_sample_mean)\n",
    "boot_chi_square = np.array (boot_chi_square)"
   ]
  },
  {
   "cell_type": "code",
   "execution_count": 62,
   "metadata": {},
   "outputs": [
    {
     "name": "stdout",
     "output_type": "stream",
     "text": [
      "0.9946123334211188\n"
     ]
    },
    {
     "data": {
      "image/png": "[encoded data removed]",
      "text/plain": [
       "<matplotlib.figure.Figure at 0x11a7d7050>"
      ]
     },
     "metadata": {},
     "output_type": "display_data"
    }
   ],
   "source": [
    "data_1 = scipy.stats.probplot (boot_sample_mean, plot = plt)\n",
    "print data_1[1][2]"
   ]
  },
  {
   "cell_type": "code",
   "execution_count": 64,
   "metadata": {},
   "outputs": [
    {
     "name": "stdout",
     "output_type": "stream",
     "text": [
      "0.9929013674785317\n"
     ]
    },
    {
     "data": {
      "image/png": "[encoded data removed]",
      "text/plain": [
       "<matplotlib.figure.Figure at 0x11a97a610>"
      ]
     },
     "metadata": {},
     "output_type": "display_data"
    }
   ],
   "source": [
    "data_2 = scipy.stats.probplot (boot_chi_square, dist = 'chi2',sparams = (len(boot_chi_square) -1),plot = plt)\n",
    "print data_2[1][2]"
   ]
  },
  {
   "cell_type": "code",
   "execution_count": 18,
   "metadata": {},
   "outputs": [
    {
     "data": {
      "text/plain": [
       "MannwhitneyuResult(statistic=38940590204.0, pvalue=3.1236179006848145e-75)"
      ]
     },
     "execution_count": 18,
     "metadata": {},
     "output_type": "execute_result"
    }
   ],
   "source": [
    "scipy.stats.mannwhitneyu(data_exp['n_clicks'], data_contr['n_clicks'])"
   ]
  },
  {
   "cell_type": "code",
   "execution_count": 15,
   "metadata": {},
   "outputs": [],
   "source": [
    "browsers = data['browser'].values\n",
    "browsers = np.unique(browsers)"
   ]
  },
  {
   "cell_type": "code",
   "execution_count": 25,
   "metadata": {
    "collapsed": true
   },
   "outputs": [
    {
     "data": {
      "text/plain": [
       "10          7\n",
       "42         63\n",
       "96         83\n",
       "107        25\n",
       "133         9\n",
       "165        45\n",
       "185        35\n",
       "203         2\n",
       "205         2\n",
       "219        33\n",
       "242        38\n",
       "261        63\n",
       "262         4\n",
       "263        10\n",
       "278        52\n",
       "299       235\n",
       "328        25\n",
       "365        67\n",
       "368         0\n",
       "373         4\n",
       "374        87\n",
       "415        57\n",
       "440       277\n",
       "476        38\n",
       "485        21\n",
       "515        68\n",
       "516         0\n",
       "576       224\n",
       "588       112\n",
       "611         6\n",
       "         ... \n",
       "565128      2\n",
       "565153      0\n",
       "565211      0\n",
       "565301      1\n",
       "565352      1\n",
       "565354      1\n",
       "565392      1\n",
       "565437      2\n",
       "565449      2\n",
       "565518      2\n",
       "565520      3\n",
       "565533      0\n",
       "565544      4\n",
       "565557      1\n",
       "565558      0\n",
       "565635      2\n",
       "565699      0\n",
       "565720      2\n",
       "565749      1\n",
       "565765      1\n",
       "565794      1\n",
       "565805      1\n",
       "565846      0\n",
       "565863      9\n",
       "565867      2\n",
       "565919      4\n",
       "565948      0\n",
       "566049      1\n",
       "566093      1\n",
       "566126      0\n",
       "Name: n_clicks, Length: 16253, dtype: int64"
      ]
     },
     "execution_count": 25,
     "metadata": {},
     "output_type": "execute_result"
    }
   ],
   "source": [
    "data_exp[data_exp['browser'] == browsers[1]].n_clicks"
   ]
  },
  {
   "cell_type": "code",
   "execution_count": 27,
   "metadata": {},
   "outputs": [],
   "source": [
    "p_val = []\n",
    "for browser in browsers:\n",
    "    p_val.append(scipy.stats.mannwhitneyu(data_exp[data_exp['browser'] == browser].n_clicks, data_contr[data_contr['browser'] == browser].n_clicks)[1])"
   ]
  },
  {
   "cell_type": "code",
   "execution_count": 37,
   "metadata": {},
   "outputs": [
    {
     "data": {
      "text/plain": [
       "(array([ True, False, False, False, False, False]),\n",
       " array([0.        , 0.0748012 , 0.0748012 , 0.45366656, 0.38610827,\n",
       "        0.45366656]),\n",
       " 0.008512444610847103,\n",
       " 0.008333333333333333)"
      ]
     },
     "execution_count": 37,
     "metadata": {},
     "output_type": "execute_result"
    }
   ],
   "source": [
    "statsmodels.sandbox.stats.multicomp.multipletests (p_val, alpha = 0.05, method = 'fdr_bh')"
   ]
  },
  {
   "cell_type": "code",
   "execution_count": 43,
   "metadata": {},
   "outputs": [
    {
     "name": "stdout",
     "output_type": "stream",
     "text": [
      "0.575904113601 0.437556173613\n",
      "0.362993667463 0.369374128487\n",
      "0.459627471792 0.449827469486\n",
      "0.405404847434 0.389773764837\n",
      "0.405939765935 0.398539472197\n",
      "0.469709296351 0.451429419036\n"
     ]
    }
   ],
   "source": [
    "for browser in browsers:\n",
    "    conter_count = float(data_contr[data_contr['browser'] == browser].n_nonclk_queries.sum())/data_contr[data_contr['browser'] == browser].n_queries.sum()\n",
    "    exp_count = float(data_exp[data_exp['browser'] == browser].n_nonclk_queries.sum())/data_exp[data_exp['browser'] == browser].n_queries.sum()\n",
    "    print conter_count, exp_count"
   ]
  },
  {
   "cell_type": "code",
   "execution_count": null,
   "metadata": {},
   "outputs": [],
   "source": []
  }
 ],
 "metadata": {
  "kernelspec": {
   "display_name": "Python 2",
   "language": "python",
   "name": "python2"
  },
  "language_info": {
   "codemirror_mode": {
    "name": "ipython",
    "version": 2
   },
   "file_extension": ".py",
   "mimetype": "text/x-python",
   "name": "python",
   "nbconvert_exporter": "python",
   "pygments_lexer": "ipython2",
   "version": "2.7.14"
  }
 },
 "nbformat": 4,
 "nbformat_minor": 2
}
